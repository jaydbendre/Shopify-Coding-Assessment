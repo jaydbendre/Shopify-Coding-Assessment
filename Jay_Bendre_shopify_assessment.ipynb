{
 "cells": [
  {
   "cell_type": "markdown",
   "metadata": {},
   "source": [
    "### Problem 1\n",
    "\n",
    "Given some sample data, write a program to answer the following: click here to access the required data set\n",
    "\n",
    "On Shopify, we have exactly 100 sneaker shops, and each of these shops sells only one model of shoe. We want to do some analysis of the average order value (AOV). When we look at orders data over a 30 day window, we naively calculate an AOV of \\$3145.13.  Given that we know these shops are selling sneakers, a relatively affordable item, something seems wrong with our analysis. \n",
    "\n",
    "1. Think about what could be going wrong with our calculation. Think about a better way to evaluate this data.\n",
    "\n",
    "AOV is calculated:\n",
    "$$\n",
    "AOV = \\frac{\\sum_{i=1}^{n}(order\\_amount)}{n} \\text{, where n is the number of orders} \n",
    "$$\n",
    "\n",
    "A few things to look into are:\n",
    "\n",
    "    a. Missing data\n",
    "\n",
    "    b. Outliers \n",
    "\n",
    "On identifying the outliers, we can remove the outliers and see if the AOV is still the same.\n"
   ]
  },
  {
   "cell_type": "code",
   "execution_count": 1,
   "metadata": {},
   "outputs": [],
   "source": [
    "# Importing libraries\n",
    "import pandas as pd \n",
    "import numpy as np \n",
    "import matplotlib.pyplot as plt\n",
    "import seaborn as sns \n",
    "df = pd.read_csv('2019 Winter Data Science Intern Challenge Data Set - Sheet1.csv')"
   ]
  },
  {
   "cell_type": "code",
   "execution_count": 2,
   "metadata": {},
   "outputs": [
    {
     "data": {
      "text/html": [
       "<div>\n",
       "<style scoped>\n",
       "    .dataframe tbody tr th:only-of-type {\n",
       "        vertical-align: middle;\n",
       "    }\n",
       "\n",
       "    .dataframe tbody tr th {\n",
       "        vertical-align: top;\n",
       "    }\n",
       "\n",
       "    .dataframe thead th {\n",
       "        text-align: right;\n",
       "    }\n",
       "</style>\n",
       "<table border=\"1\" class=\"dataframe\">\n",
       "  <thead>\n",
       "    <tr style=\"text-align: right;\">\n",
       "      <th></th>\n",
       "      <th>order_id</th>\n",
       "      <th>shop_id</th>\n",
       "      <th>user_id</th>\n",
       "      <th>order_amount</th>\n",
       "      <th>total_items</th>\n",
       "      <th>payment_method</th>\n",
       "      <th>created_at</th>\n",
       "    </tr>\n",
       "  </thead>\n",
       "  <tbody>\n",
       "    <tr>\n",
       "      <th>0</th>\n",
       "      <td>1</td>\n",
       "      <td>53</td>\n",
       "      <td>746</td>\n",
       "      <td>224</td>\n",
       "      <td>2</td>\n",
       "      <td>cash</td>\n",
       "      <td>2017-03-13 12:36:56</td>\n",
       "    </tr>\n",
       "    <tr>\n",
       "      <th>1</th>\n",
       "      <td>2</td>\n",
       "      <td>92</td>\n",
       "      <td>925</td>\n",
       "      <td>90</td>\n",
       "      <td>1</td>\n",
       "      <td>cash</td>\n",
       "      <td>2017-03-03 17:38:52</td>\n",
       "    </tr>\n",
       "    <tr>\n",
       "      <th>2</th>\n",
       "      <td>3</td>\n",
       "      <td>44</td>\n",
       "      <td>861</td>\n",
       "      <td>144</td>\n",
       "      <td>1</td>\n",
       "      <td>cash</td>\n",
       "      <td>2017-03-14 4:23:56</td>\n",
       "    </tr>\n",
       "    <tr>\n",
       "      <th>3</th>\n",
       "      <td>4</td>\n",
       "      <td>18</td>\n",
       "      <td>935</td>\n",
       "      <td>156</td>\n",
       "      <td>1</td>\n",
       "      <td>credit_card</td>\n",
       "      <td>2017-03-26 12:43:37</td>\n",
       "    </tr>\n",
       "    <tr>\n",
       "      <th>4</th>\n",
       "      <td>5</td>\n",
       "      <td>18</td>\n",
       "      <td>883</td>\n",
       "      <td>156</td>\n",
       "      <td>1</td>\n",
       "      <td>credit_card</td>\n",
       "      <td>2017-03-01 4:35:11</td>\n",
       "    </tr>\n",
       "  </tbody>\n",
       "</table>\n",
       "</div>"
      ],
      "text/plain": [
       "   order_id  shop_id  user_id  order_amount  total_items payment_method  \\\n",
       "0         1       53      746           224            2           cash   \n",
       "1         2       92      925            90            1           cash   \n",
       "2         3       44      861           144            1           cash   \n",
       "3         4       18      935           156            1    credit_card   \n",
       "4         5       18      883           156            1    credit_card   \n",
       "\n",
       "            created_at  \n",
       "0  2017-03-13 12:36:56  \n",
       "1  2017-03-03 17:38:52  \n",
       "2   2017-03-14 4:23:56  \n",
       "3  2017-03-26 12:43:37  \n",
       "4   2017-03-01 4:35:11  "
      ]
     },
     "execution_count": 2,
     "metadata": {},
     "output_type": "execute_result"
    }
   ],
   "source": [
    "# Previewing the data\n",
    "df.head()"
   ]
  },
  {
   "cell_type": "code",
   "execution_count": 3,
   "metadata": {},
   "outputs": [
    {
     "data": {
      "text/plain": [
       "order_id          0\n",
       "shop_id           0\n",
       "user_id           0\n",
       "order_amount      0\n",
       "total_items       0\n",
       "payment_method    0\n",
       "created_at        0\n",
       "dtype: int64"
      ]
     },
     "execution_count": 3,
     "metadata": {},
     "output_type": "execute_result"
    }
   ],
   "source": [
    "# Checking for missing values\n",
    "df.isna().sum()"
   ]
  },
  {
   "cell_type": "markdown",
   "metadata": {},
   "source": [
    "There seem to be no missing values, the problem could possibly be in the outliers."
   ]
  },
  {
   "cell_type": "code",
   "execution_count": 4,
   "metadata": {},
   "outputs": [],
   "source": [
    "# Converting the date to a datetime object\n",
    "df[\"created_at\"] = pd.to_datetime(df[\"created_at\"])"
   ]
  },
  {
   "cell_type": "code",
   "execution_count": 5,
   "metadata": {},
   "outputs": [
    {
     "name": "stdout",
     "output_type": "stream",
     "text": [
      "$3145.13 per order\n"
     ]
    }
   ],
   "source": [
    "# Recreating the Wrong AOV\n",
    "wrong_aov = df[\"order_amount\"].sum()/df[\"order_amount\"].count()\n",
    "print(\"${:.2f} per order\".format(wrong_aov))"
   ]
  },
  {
   "cell_type": "code",
   "execution_count": 6,
   "metadata": {},
   "outputs": [],
   "source": [
    "# Filtering the dataframe to remove all possible outliers\n",
    "upper_limit = df[\"order_amount\"].quantile(0.975)\n",
    "lower_limit = df[\"order_amount\"].quantile(0.025)\n",
    "\n",
    "# updating the dataframe with the outliers removed\n",
    "df['order_amount_no_outlier'] = np.where(\n",
    "    df['order_amount']>upper_limit,\n",
    "    upper_limit,\n",
    "    np.where(\n",
    "        df['order_amount']<lower_limit,\n",
    "        lower_limit,\n",
    "        df['order_amount']\n",
    "    )\n",
    ")"
   ]
  },
  {
   "cell_type": "code",
   "execution_count": 7,
   "metadata": {},
   "outputs": [
    {
     "data": {
      "text/plain": [
       "<AxesSubplot:ylabel='order_amount'>"
      ]
     },
     "execution_count": 7,
     "metadata": {},
     "output_type": "execute_result"
    },
    {
     "data": {
      "image/png": "[encoded data removed]",
      "text/plain": [
       "<Figure size 432x288 with 1 Axes>"
      ]
     },
     "metadata": {
      "needs_background": "light"
     },
     "output_type": "display_data"
    }
   ],
   "source": [
    "# Without removing the outliers\n",
    "sns.boxplot(y = \"order_amount\", data = df)"
   ]
  },
  {
   "cell_type": "code",
   "execution_count": 8,
   "metadata": {},
   "outputs": [
    {
     "data": {
      "text/plain": [
       "<AxesSubplot:ylabel='order_amount_no_outlier'>"
      ]
     },
     "execution_count": 8,
     "metadata": {},
     "output_type": "execute_result"
    },
    {
     "data": {
      "image/png": "[encoded data removed]",
      "text/plain": [
       "<Figure size 432x288 with 1 Axes>"
      ]
     },
     "metadata": {
      "needs_background": "light"
     },
     "output_type": "display_data"
    }
   ],
   "source": [
    "# Removing the outliers\n",
    "sns.boxplot(y = \"order_amount_no_outlier\", data = df)"
   ]
  },
  {
   "cell_type": "code",
   "execution_count": 9,
   "metadata": {},
   "outputs": [
    {
     "name": "stdout",
     "output_type": "stream",
     "text": [
      "$307.07 per order\n"
     ]
    }
   ],
   "source": [
    "# Getting the correct AOV\n",
    "correct_aov = df[\"order_amount_no_outlier\"].sum()/df[\"order_amount_no_outlier\"].count()\n",
    "print(\"${:.2f} per order\".format(correct_aov))"
   ]
  },
  {
   "cell_type": "markdown",
   "metadata": {},
   "source": [
    "The above estimate seems a more realistic estimate than the one we got from the data before we removed the outliers.\n",
    "\n",
    "2. What metric would you report for this dataset?\n",
    "\n",
    "A suitable metric would be the average unit per order value, which can be calculated as follows:\n",
    "$$\n",
    "AUOV = \\frac{\\sum_{i = 1}^{n}\\frac{order\\_amount_{i}}{total\\_items_{i}}}{n}\n",
    "$$\n"
   ]
  },
  {
   "cell_type": "code",
   "execution_count": 10,
   "metadata": {},
   "outputs": [
    {
     "name": "stdout",
     "output_type": "stream",
     "text": [
      "$387.74 per unit per order\n"
     ]
    }
   ],
   "source": [
    "auov = (df[\"order_amount\"]/df[\"total_items\"]).sum()/df[\"order_amount\"].count()\n",
    "print(\"${:.2f} per unit per order\".format(auov))"
   ]
  },
  {
   "cell_type": "markdown",
   "metadata": {},
   "source": [
    "What is its value?\n",
    "\n",
    "The value of AUOV is: \\$ 387.74"
   ]
  },
  {
   "cell_type": "markdown",
   "metadata": {},
   "source": [
    "### Problem 2\n",
    "\n",
    "For this question you’ll need to use SQL. Follow this link to access the data set required for the challenge. Please use queries to answer the following questions. Paste your queries along with your final numerical answers below\n",
    "\n",
    "1. How many orders were shipped by Speedy Express in total?\n",
    "\n",
    "```SELECT COUNT(*) as number_of_orders from orders where ShipperID == (SELECT ShipperID from Shippers where ShipperName == \"Speedy Express\") group by ShipperID```\n",
    "\n",
    "![image1](1.png)\n",
    "\n",
    "Speedy express shipped a total of 54 orders."
   ]
  },
  {
   "cell_type": "markdown",
   "metadata": {},
   "source": [
    "2. What is the last name of the employee with the most orders?\n",
    "\n",
    "```SELECT LastName from (SELECT e.LastName, COUNT(o.orderID) as number_of_orders from employees as e, orders as o where e.EmployeeId == o.EmployeeID GROUP BY o.EmployeeID ORDER BY 2 DESC LIMIT 1)```\n",
    "\n",
    "![image2](2.png)\n",
    "\n",
    "Person with last name \"Peacock\" had the most orders with orders = 40."
   ]
  },
  {
   "cell_type": "markdown",
   "metadata": {},
   "source": [
    "3. What product was ordered the most by customers in Germany?\n",
    "\n",
    "```\n",
    "SELECT ProductName from Products where ProductId IN (SELECT ProductId from (SELECT ProductId, SUM(Quantity) as total_quantity from OrderDetails where OrderID IN (SELECT OrderId from Orders where CustomerId IN (SELECT CustomerId FROM Customers where Country == \"Germany\")) GROUP BY ProductId ORDER BY 2 DESC LIMIT 1)) \n",
    "```\n",
    "\n",
    "![image3](3.png)\n",
    "\n",
    "'Boston Crab Meat' was ordered the most by customers in Germany upto 160 in quantity."
   ]
  }
 ],
 "metadata": {
  "interpreter": {
   "hash": "f2db188c233a700111d30e3ccbeb8d5ce15dbfb83d194c6870e309733805c539"
  },
  "kernelspec": {
   "display_name": "Python 3.9.6 64-bit",
   "language": "python",
   "name": "python3"
  },
  "language_info": {
   "codemirror_mode": {
    "name": "ipython",
    "version": 3
   },
   "file_extension": ".py",
   "mimetype": "text/x-python",
   "name": "python",
   "nbconvert_exporter": "python",
   "pygments_lexer": "ipython3",
   "version": "3.9.6"
  },
  "orig_nbformat": 4
 },
 "nbformat": 4,
 "nbformat_minor": 2
}
